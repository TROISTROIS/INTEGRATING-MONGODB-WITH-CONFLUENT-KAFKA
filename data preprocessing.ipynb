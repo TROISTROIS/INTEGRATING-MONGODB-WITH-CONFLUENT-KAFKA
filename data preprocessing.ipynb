{
 "cells": [
  {
   "cell_type": "code",
   "execution_count": 2,
   "metadata": {
    "ExecuteTime": {
     "end_time": "2024-02-06T18:31:08.871578Z",
     "start_time": "2024-02-06T18:31:08.730955700Z"
    }
   },
   "outputs": [],
   "source": [
    "import pandas as pd\n",
    "import datetime\n",
    "from datetime import datetime\n",
    "from dateutil.parser import parse"
   ]
  },
  {
   "cell_type": "code",
   "execution_count": null,
   "metadata": {},
   "outputs": [],
   "source": [
    "pd.set_option('display.max_columns',None)\n",
    "pd.set_option('display.max_rows',None)"
   ]
  },
  {
   "cell_type": "code",
   "execution_count": null,
   "metadata": {
    "ExecuteTime": {
     "end_time": "2024-02-06T18:31:08.949550900Z",
     "start_time": "2024-02-06T18:31:08.746576800Z"
    }
   },
   "outputs": [],
   "source": [
    "df = pd.read_csv(\"delivery_trip_truck_data.csv\")\n",
    "df.head()"
   ]
  },
  {
   "cell_type": "code",
   "execution_count": null,
   "metadata": {
    "ExecuteTime": {
     "end_time": "2024-02-06T18:31:08.996733Z",
     "start_time": "2024-02-06T18:31:08.949550900Z"
    }
   },
   "outputs": [],
   "source": [
    "df.isna().sum()"
   ]
  },
  {
   "cell_type": "code",
   "execution_count": null,
   "metadata": {},
   "outputs": [],
   "source": [
    "df=df.fillna(method='ffill')\n",
    "df.isna().sum()"
   ]
  },
  {
   "cell_type": "code",
   "execution_count": null,
   "metadata": {},
   "outputs": [],
   "source": [
    "df=df.fillna(method='bfill')\n",
    "df.isna().sum()"
   ]
  },
  {
   "cell_type": "code",
   "execution_count": null,
   "metadata": {
    "ExecuteTime": {
     "end_time": "2024-02-06T18:31:09.207885400Z",
     "start_time": "2024-02-06T18:31:09.012357200Z"
    }
   },
   "outputs": [],
   "source": [
    "df['BookingID_Date'] = pd.to_datetime(df['BookingID_Date'])"
   ]
  },
  {
   "cell_type": "code",
   "execution_count": null,
   "metadata": {},
   "outputs": [],
   "source": [
    "df.sample(5)"
   ]
  },
  {
   "cell_type": "code",
   "execution_count": null,
   "metadata": {},
   "outputs": [],
   "source": [
    "df.dtypes"
   ]
  },
  {
   "cell_type": "code",
   "execution_count": null,
   "metadata": {
    "ExecuteTime": {
     "end_time": "2024-02-06T18:31:09.207885400Z",
     "start_time": "2024-02-06T18:31:09.074864300Z"
    }
   },
   "outputs": [],
   "source": [
    "df['Data_Ping_time'] = pd.to_datetime(df['Data_Ping_time'], format='mixed')"
   ]
  },
  {
   "cell_type": "code",
   "execution_count": null,
   "metadata": {
    "ExecuteTime": {
     "end_time": "2024-02-06T18:32:15.056251700Z",
     "start_time": "2024-02-06T18:32:14.202101Z"
    }
   },
   "outputs": [],
   "source": [
    "df['Planned_ETA'] = pd.to_datetime(df['Planned_ETA'], format='mixed')"
   ]
  },
  {
   "cell_type": "code",
   "execution_count": null,
   "metadata": {
    "ExecuteTime": {
     "end_time": "2024-02-06T18:31:09.207885400Z",
     "start_time": "2024-02-06T18:31:09.106111500Z"
    }
   },
   "outputs": [],
   "source": [
    "df.dtypes"
   ]
  },
  {
   "cell_type": "code",
   "execution_count": null,
   "metadata": {
    "ExecuteTime": {
     "end_time": "2024-02-06T18:31:09.207885400Z",
     "start_time": "2024-02-06T18:31:09.152981800Z"
    }
   },
   "outputs": [],
   "source": [
    "df['actual_eta'] =  pd.to_datetime(df['actual_eta'], format='mixed')"
   ]
  },
  {
   "cell_type": "code",
   "execution_count": null,
   "metadata": {
    "ExecuteTime": {
     "end_time": "2024-02-06T18:31:09.207885400Z",
     "start_time": "2024-02-06T18:31:09.176636800Z"
    }
   },
   "outputs": [],
   "source": [
    "df['trip_start_date'] = pd.to_datetime(df['trip_start_date'], format='mixed')"
   ]
  },
  {
   "cell_type": "code",
   "execution_count": null,
   "metadata": {
    "ExecuteTime": {
     "end_time": "2024-02-06T18:31:09.207885400Z",
     "start_time": "2024-02-06T18:31:09.192256800Z"
    }
   },
   "outputs": [],
   "source": [
    "df['trip_end_date'] = pd.to_datetime(df['trip_end_date'], format='mixed')"
   ]
  },
  {
   "cell_type": "code",
   "execution_count": null,
   "metadata": {
    "ExecuteTime": {
     "end_time": "2024-02-06T18:31:09.289729500Z",
     "start_time": "2024-02-06T18:31:09.207885400Z"
    }
   },
   "outputs": [],
   "source": [
    "df.sample(5)"
   ]
  },
  {
   "cell_type": "code",
   "execution_count": null,
   "metadata": {
    "ExecuteTime": {
     "end_time": "2024-02-06T18:31:09.461607300Z",
     "start_time": "2024-02-06T18:31:09.383493Z"
    }
   },
   "outputs": [],
   "source": [
    "# df.to_csv('truck_data.csv',index=False)"
   ]
  },
  {
   "cell_type": "code",
   "execution_count": null,
   "metadata": {},
   "outputs": [],
   "source": [
    "df['MarketRegular'].value_counts()"
   ]
  },
  {
   "cell_type": "code",
   "execution_count": null,
   "metadata": {},
   "outputs": [],
   "source": [
    "import datetime\n",
    "import threading\n",
    "from decimal import *\n",
    "from time import sleep\n",
    "from uuid import uuid4, UUID\n",
    "\n",
    "from confluent_kafka import SerializingProducer\n",
    "from confluent_kafka.schema_registry import SchemaRegistryClient\n",
    "from confluent_kafka.schema_registry.avro import AvroSerializer\n",
    "from confluent_kafka.serialization import StringSerializer"
   ]
  },
  {
   "cell_type": "code",
   "execution_count": null,
   "metadata": {},
   "outputs": [],
   "source": [
    "def delivery_report(err, msg):\n",
    "    \"\"\"\n",
    "    Reports the failure or success of a message delivery.\n",
    "\n",
    "    Args:\n",
    "        err (KafkaError): The error that occurred on None on success.\n",
    "\n",
    "        msg (Message): The message that was produced or failed.\n",
    "\n",
    "    Note:\n",
    "        In the delivery report callback the Message.key() and Message.value()\n",
    "        will be the binary format as encoded by any configured Serializers and\n",
    "        not the same object that was passed to produce().\n",
    "        If you wish to pass the original object(s) for key and value to delivery\n",
    "        report callback we recommend a bound callback or lambda where you pass\n",
    "        the objects along.\n",
    "\n",
    "    \"\"\"\n",
    "    if err is not None:\n",
    "        print(\"Delivery failed for User record {}: {}\".format(msg.key(), err))\n",
    "        return\n",
    "    print('User record {} successfully produced to {} [{}] at offset {}'.format(\n",
    "        msg.key(), msg.topic(), msg.partition(), msg.offset()))\n",
    "\n",
    "# Define Kafka configuration\n",
    "kafka_config = {\n",
    "    'bootstrap.servers': 'pkc-60py3.europe-west9.gcp.confluent.cloud:9092',\n",
    "    'sasl.mechanisms': 'PLAIN',\n",
    "    'security.protocol': 'SASL_SSL',\n",
    "    'sasl.username': '',\n",
    "    'sasl.password': ''\n",
    "}\n",
    "\n",
    "# Create a Schema Registry client\n",
    "schema_registry_client = SchemaRegistryClient({\n",
    "    'url': 'https://psrc-l6o18.us-east-2.aws.confluent.cloud',\n",
    "    'basic.auth.user.info': '{}:{}'.format('',\n",
    "     '')\n",
    "})\n",
    "\n",
    "# Fetch the latest Avro schema for the value\n",
    "subject_name = 'delivery_truck_logistics-value'\n",
    "schema_str = schema_registry_client.get_latest_version(subject_name).schema.schema_str\n",
    "\n",
    "# Create Avro Serializer for the value\n",
    "# key_serializer = AvroSerializer(schema_registry_client=schema_registry_client, schema_str='{\"type\": \"string\"}')\n",
    "key_serializer = StringSerializer('utf_8')\n",
    "avro_serializer = AvroSerializer(schema_registry_client, schema_str)\n",
    "\n",
    "# Define the SerializingProducer\n",
    "producer = SerializingProducer({\n",
    "    'bootstrap.servers': kafka_config['bootstrap.servers'],\n",
    "    'security.protocol': kafka_config['security.protocol'],\n",
    "    'sasl.mechanisms': kafka_config['sasl.mechanisms'],\n",
    "    'sasl.username': kafka_config['sasl.username'],\n",
    "    'sasl.password': kafka_config['sasl.password'],\n",
    "    'key.serializer': key_serializer,  # Key will be serialized as a string\n",
    "    'value.serializer': avro_serializer  # Value will be serialized as Avro\n",
    "})\n",
    "\n",
    "# Iterate over DataFrame rows and produce to Kafka\n",
    "for index, row in df.iterrows():\n",
    "    # Create a dictionary from the row values\n",
    "    value = row.to_dict()\n",
    "    # Produce to Kafka\n",
    "    producer.produce(topic='delivery_truck_logistics', key=str(index), value=value, on_delivery=delivery_report)\n",
    "    producer.flush()\n",
    "    #break\n",
    "\n",
    "print(\"All Data successfully published to Kafka\")\n"
   ]
  }
 ],
 "metadata": {
  "kernelspec": {
   "display_name": "Python 3 (ipykernel)",
   "language": "python",
   "name": "python3"
  },
  "language_info": {
   "codemirror_mode": {
    "name": "ipython",
    "version": 3
   },
   "file_extension": ".py",
   "mimetype": "text/x-python",
   "name": "python",
   "nbconvert_exporter": "python",
   "pygments_lexer": "ipython3",
   "version": "3.9.12"
  }
 },
 "nbformat": 4,
 "nbformat_minor": 4
}
